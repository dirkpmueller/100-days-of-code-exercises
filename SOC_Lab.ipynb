{
  "nbformat": 4,
  "nbformat_minor": 0,
  "metadata": {
    "colab": {
      "provenance": [],
      "authorship_tag": "ABX9TyO9cC5lJ9CCQXX+PB2KRjEm",
      "include_colab_link": true
    },
    "kernelspec": {
      "name": "python3",
      "display_name": "Python 3"
    },
    "language_info": {
      "name": "python"
    }
  },
  "cells": [
    {
      "cell_type": "markdown",
      "metadata": {
        "id": "view-in-github",
        "colab_type": "text"
      },
      "source": [
        "<a href=\"https://colab.research.google.com/github/dirkpmueller/100-days-of-code-exercises/blob/main/SOC_Lab.ipynb\" target=\"_parent\"><img src=\"https://colab.research.google.com/assets/colab-badge.svg\" alt=\"Open In Colab\"/></a>"
      ]
    },
    {
      "cell_type": "markdown",
      "source": [
        "##**Create VM for lab on AWS**\n",
        "- Windows server 2022, 16BG RAM, 100GB SSD"
      ],
      "metadata": {
        "id": "YI-3EGx4ahG4"
      }
    },
    {
      "cell_type": "markdown",
      "source": [
        "##**Download VMware**"
      ],
      "metadata": {
        "id": "AzSbcgxPa7Pi"
      }
    },
    {
      "cell_type": "markdown",
      "source": [
        "##**Download Windows VM**\n",
        "- extract file \n",
        "- open OFV file and import VM into vmware\n",
        "  - got an error saying 'not enough space'\n",
        "  - increased SSD volume of host VM to 150GB\n",
        "  - restarted import\n",
        "  - error: \"VMware Player and Hyper-V are not  compatible. Remove the Hyper-V role from the system before running VMware Player.\"\n",
        "  "
      ],
      "metadata": {
        "id": "_FO8iOd7bCWv"
      }
    },
    {
      "cell_type": "markdown",
      "source": [
        "##**Download Ubuntu Server**"
      ],
      "metadata": {
        "id": "_A191DSubH8G"
      }
    }
  ]
}